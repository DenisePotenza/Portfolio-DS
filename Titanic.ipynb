{
  "nbformat": 4,
  "nbformat_minor": 0,
  "metadata": {
    "kernelspec": {
      "display_name": "Python 3",
      "language": "python",
      "name": "python3"
    },
    "language_info": {
      "codemirror_mode": {
        "name": "ipython",
        "version": 3
      },
      "file_extension": ".py",
      "mimetype": "text/x-python",
      "name": "python",
      "nbconvert_exporter": "python",
      "pygments_lexer": "ipython3",
      "version": "3.6.4"
    },
    "colab": {
      "name": "Titanic.ipynb",
      "provenance": [],
      "collapsed_sections": [],
      "include_colab_link": true
    }
  },
  "cells": [
    {
      "cell_type": "markdown",
      "metadata": {
        "id": "view-in-github",
        "colab_type": "text"
      },
      "source": [
        "<a href=\"https://colab.research.google.com/github/DenisePotenza/Portfolio-DS/blob/master/Titanic.ipynb\" target=\"_parent\"><img src=\"https://colab.research.google.com/assets/colab-badge.svg\" alt=\"Open In Colab\"/></a>"
      ]
    },
    {
      "cell_type": "markdown",
      "metadata": {
        "id": "Nt6Rjafn2Go3",
        "colab_type": "text"
      },
      "source": [
        "<p align=center>\n",
        "  <img src=https://aventurasnahistoria.uol.com.br/media/_versions/titanicajjdja_widelg.jpg \n",
        "  width=400px>\n",
        "  </p>\n",
        "\n",
        "<h1 align=center>Titanic - Machine Learning from Disaster!</h1>\n",
        "\n",
        "**Titanic's disaster is one of the most known in the world. Everybody knows the famous history of the ship that sank after beating in an iceberg.** \n",
        "**In data science, it became one of the most popular Kaggle competitions, some people even say that this is the 'Hello World' of machine learning!**\n",
        "\n",
        "\n",
        "## **About this notebook!**\n",
        "\n",
        "*As mentioned before, this is one of the most famous competitions on Keggle for beginners. The goal here is to measure the chance of survival using the data in this dataset.*</br>\n",
        "*The complete description of this competition may be found on [Kaggle](https://www.kaggle.com/c/titanic/overview)*\n",
        "\n",
        "##**1 - Problem Definition**\n",
        "###**Some history!**\n",
        "\n",
        "*RMS Titanic was built in the Belfast-United Kingdom. It was the second ship of Olympic Class ocean liners, after RMS Olympic and followed by RMS Britannic. The built started in 1909 March and ended in 1911 May. Titanic was built to be the more luxurious and safety ship of its time.*\n",
        "*Its first, and only trip, started on April 10 of 1912. The ship left the Southhampton Port to New York, passing in Cherbourg-Octeville-France and Queenstown-Ireland. It collides on an iceberg at 11:30 pm on April 14 of 1912 and sank on April 15 with more than 2000 people aboard.*\n",
        "\n",
        "**Passengers:**\n",
        "*The ship had 1316 passengers on board.*\n",
        "* 325 in the first class. Here stayed the most riches on the ship, like businessmen, artists, military officers, politicians, and others. In many cases, they traveled with many luggage and one or more employee.\n",
        "\n",
        "* 285 in the second class. This class had more diversity. I included businessmen, teachers, clerics and immigrants, that was rich and were going back to their country for Christmas.\n",
        "\n",
        "* 706 in the third class. The third class was the immigrants. Were people that traveled in a big family group with up to 12 people. They came from different parts of Europe. For this reason, the third class was the only one required to pass a health surveillance examination.\n",
        "\n",
        "**Ports:**\n",
        "*As mentioned before, Titanic has passed through three different ports.*\n",
        "* Southhampton - The United Kingdom, 922 people embarked.\n",
        "* Cherbourg-Octeville - France, 274 people embarked.\n",
        "* Queenstown - Ireland, 120 people embarked.\n",
        "\n",
        "**Crew:**\n",
        "*Titanic had a crew of almost 900 people.*\n",
        "* 66 Deck Crew.\n",
        "* 325 Mechanics.\n",
        "* 494 Service Staff.\n",
        "\n",
        "*The number of survivors is uncertain, some people didn't embark, some embarked under a pseudonym. The total number of victims more accepted is 1514 people, and 710 survivors.*\n",
        "\n",
        "##**2 - Data Exploration**\n",
        "*The datasets used in this notebook is available on [Kaggle](https://www.kaggle.com/c/titanic/overview). It was split into two datasets, one for the train with 891 lines and the other for the test, with 418 lines, both having 12 columns.*\n",
        "* Train dataset (train.csv)\n",
        "  * Must be used for building the machine learning model. Here is informed if the passenger survived or not.\n",
        "  * Has many features like the gender, class and embark port.\n",
        "* Test dataset (test.csv)\n",
        "  * It must be used to test the machine learning model. Here the information if the passenger survived or not isn't present."
      ]
    },
    {
      "cell_type": "code",
      "metadata": {
        "id": "8c4U69_-UBO0",
        "colab_type": "code",
        "colab": {}
      },
      "source": [
        "#Basic Libraries\n",
        "import numpy as np\n",
        "import pandas as pd\n",
        "\n",
        "#Shows all columns\n",
        "pd.options.display.max_columns=None\n",
        "\n",
        "#Data Visualization\n",
        "import matplotlib.pyplot as plt\n",
        "import seaborn as sns\n",
        "\n",
        "\n",
        "%matplotlib inline\n",
        "sns.set_style('whitegrid')\n",
        "sns.set_palette('Set2')\n",
        "\n",
        "from sklearn.impute import SimpleImputer\n",
        "from sklearn.preprocessing import LabelEncoder\n",
        "from sklearn.ensemble import RandomForestClassifier, ExtraTreesClassifier\n",
        "from sklearn.model_selection import train_test_split, GridSearchCV, StratifiedKFold\n",
        "from sklearn.metrics import accuracy_score\n",
        "from xgboost import XGBClassifier"
      ],
      "execution_count": 0,
      "outputs": []
    },
    {
      "cell_type": "code",
      "metadata": {
        "id": "_n5vkCCUUBPI",
        "colab_type": "code",
        "colab": {}
      },
      "source": [
        "train = pd.read_csv('https://raw.githubusercontent.com/DenisePotenza/Portfolio-DS/master/Datasets/TITANIC%20-%20train.csv')\n",
        "test = pd.read_csv('https://raw.githubusercontent.com/DenisePotenza/Portfolio-DS/master/Datasets/TITANIC%20-%20test.csv')"
      ],
      "execution_count": 0,
      "outputs": []
    },
    {
      "cell_type": "markdown",
      "metadata": {
        "id": "675FqAZf5oKS",
        "colab_type": "text"
      },
      "source": [
        "**Checking the number of lines and columns on both datasets.**"
      ]
    },
    {
      "cell_type": "code",
      "metadata": {
        "id": "SeFx9_drUBPP",
        "colab_type": "code",
        "outputId": "46621be2-d4e6-42d2-ed00-10d3ca301954",
        "colab": {
          "base_uri": "https://localhost:8080/",
          "height": 145
        }
      },
      "source": [
        "print('Train Dataset:\\nLines:\\t\\t{}\\nColumns:\\t{}\\n'.format(train.shape[0], train.shape[1]))\n",
        "print('Test Dataset:\\nLines:\\t\\t{}\\nColumns:\\t{}'.format(test.shape[0], test.shape[1]))"
      ],
      "execution_count": 3,
      "outputs": [
        {
          "output_type": "stream",
          "text": [
            "Train Dataset:\n",
            "Lines:\t\t891\n",
            "Columns:\t12\n",
            "\n",
            "Test Dataset:\n",
            "Lines:\t\t418\n",
            "Columns:\t11\n"
          ],
          "name": "stdout"
        }
      ]
    },
    {
      "cell_type": "markdown",
      "metadata": {
        "id": "DU5EOLZxUBPW",
        "colab_type": "text"
      },
      "source": [
        "This first analysis will show the name of each variable and its type, the missing values, and type of distribution.\n",
        "\n",
        "In this case, the dataset has the target variable, 'Survived', so, it's gonna be used supervised learning.\n",
        "###**Data Dictionary**\n",
        "* PassangerId - Id number of each passenger\n",
        "* Survived - Inform if the passenger survived or not\n",
        "  *\t0 = No\n",
        "  * 1 = Yes\n",
        "* PClass - A proxy for socio-economic status\n",
        "  *\t1 = 1st Class - Upper\n",
        "  * 2 = 2nd Class - Middle\n",
        "  * 3 = 3rd Class - Lower\n",
        "* Sex\t- The passenger gender\t\n",
        "* Age\t- Age in years of the passengers\n",
        "* SibSp - The dataset defines family relations in this way\n",
        "  * Sibling = brother, sister, stepbrother, stepsister\n",
        "  * Spouse = husband, wife (mistresses and fiancés were ignored)\n",
        "* Parch\t- The dataset defines family relations in this way...\n",
        "  * Parent = mother, father\n",
        "  * Child = daughter, son, stepdaughter, stepson\n",
        "  * Some children travelled only with a nanny, therefore parch=0 for them\n",
        "* Ticket\t- The ticket number\t\n",
        "* Fare - The passenger fare\t\n",
        "* Cabin\t- Cabin number\t\n",
        "* Embarked\t- The Port of Embarkation\t\n",
        "  * C = Cherbourg\n",
        "  * Q = Queenstown\n",
        "  * S = Southampton\n",
        "\n",
        "###**The type of each data**  \n",
        "* Numerical Variables\n",
        "  * PClass\n",
        "  * SibSp\n",
        "  * Parch\n",
        "  * Age\n",
        "  * Fare\n",
        "  * Target\n",
        "    * Survived\n",
        "  * Primary Key\n",
        "    * PassngerId\n",
        "* Categorical Variables\n",
        "  * Name\n",
        "  * Sex\n",
        "  * Ticket\n",
        "  * Cabin\n",
        "  * Embarked"
      ]
    },
    {
      "cell_type": "code",
      "metadata": {
        "scrolled": false,
        "id": "vjUU0cdTUBPY",
        "colab_type": "code",
        "outputId": "b0585734-a67c-4d6c-b65c-fc42a3a5db94",
        "colab": {
          "base_uri": "https://localhost:8080/",
          "height": 233
        }
      },
      "source": [
        "train.head()"
      ],
      "execution_count": 4,
      "outputs": [
        {
          "output_type": "execute_result",
          "data": {
            "text/html": [
              "<div>\n",
              "<style scoped>\n",
              "    .dataframe tbody tr th:only-of-type {\n",
              "        vertical-align: middle;\n",
              "    }\n",
              "\n",
              "    .dataframe tbody tr th {\n",
              "        vertical-align: top;\n",
              "    }\n",
              "\n",
              "    .dataframe thead th {\n",
              "        text-align: right;\n",
              "    }\n",
              "</style>\n",
              "<table border=\"1\" class=\"dataframe\">\n",
              "  <thead>\n",
              "    <tr style=\"text-align: right;\">\n",
              "      <th></th>\n",
              "      <th>PassengerId</th>\n",
              "      <th>Survived</th>\n",
              "      <th>Pclass</th>\n",
              "      <th>Name</th>\n",
              "      <th>Sex</th>\n",
              "      <th>Age</th>\n",
              "      <th>SibSp</th>\n",
              "      <th>Parch</th>\n",
              "      <th>Ticket</th>\n",
              "      <th>Fare</th>\n",
              "      <th>Cabin</th>\n",
              "      <th>Embarked</th>\n",
              "    </tr>\n",
              "  </thead>\n",
              "  <tbody>\n",
              "    <tr>\n",
              "      <th>0</th>\n",
              "      <td>1</td>\n",
              "      <td>0</td>\n",
              "      <td>3</td>\n",
              "      <td>Braund, Mr. Owen Harris</td>\n",
              "      <td>male</td>\n",
              "      <td>22.0</td>\n",
              "      <td>1</td>\n",
              "      <td>0</td>\n",
              "      <td>A/5 21171</td>\n",
              "      <td>7.2500</td>\n",
              "      <td>NaN</td>\n",
              "      <td>S</td>\n",
              "    </tr>\n",
              "    <tr>\n",
              "      <th>1</th>\n",
              "      <td>2</td>\n",
              "      <td>1</td>\n",
              "      <td>1</td>\n",
              "      <td>Cumings, Mrs. John Bradley (Florence Briggs Th...</td>\n",
              "      <td>female</td>\n",
              "      <td>38.0</td>\n",
              "      <td>1</td>\n",
              "      <td>0</td>\n",
              "      <td>PC 17599</td>\n",
              "      <td>71.2833</td>\n",
              "      <td>C85</td>\n",
              "      <td>C</td>\n",
              "    </tr>\n",
              "    <tr>\n",
              "      <th>2</th>\n",
              "      <td>3</td>\n",
              "      <td>1</td>\n",
              "      <td>3</td>\n",
              "      <td>Heikkinen, Miss. Laina</td>\n",
              "      <td>female</td>\n",
              "      <td>26.0</td>\n",
              "      <td>0</td>\n",
              "      <td>0</td>\n",
              "      <td>STON/O2. 3101282</td>\n",
              "      <td>7.9250</td>\n",
              "      <td>NaN</td>\n",
              "      <td>S</td>\n",
              "    </tr>\n",
              "    <tr>\n",
              "      <th>3</th>\n",
              "      <td>4</td>\n",
              "      <td>1</td>\n",
              "      <td>1</td>\n",
              "      <td>Futrelle, Mrs. Jacques Heath (Lily May Peel)</td>\n",
              "      <td>female</td>\n",
              "      <td>35.0</td>\n",
              "      <td>1</td>\n",
              "      <td>0</td>\n",
              "      <td>113803</td>\n",
              "      <td>53.1000</td>\n",
              "      <td>C123</td>\n",
              "      <td>S</td>\n",
              "    </tr>\n",
              "    <tr>\n",
              "      <th>4</th>\n",
              "      <td>5</td>\n",
              "      <td>0</td>\n",
              "      <td>3</td>\n",
              "      <td>Allen, Mr. William Henry</td>\n",
              "      <td>male</td>\n",
              "      <td>35.0</td>\n",
              "      <td>0</td>\n",
              "      <td>0</td>\n",
              "      <td>373450</td>\n",
              "      <td>8.0500</td>\n",
              "      <td>NaN</td>\n",
              "      <td>S</td>\n",
              "    </tr>\n",
              "  </tbody>\n",
              "</table>\n",
              "</div>"
            ],
            "text/plain": [
              "   PassengerId  Survived  Pclass  \\\n",
              "0            1         0       3   \n",
              "1            2         1       1   \n",
              "2            3         1       3   \n",
              "3            4         1       1   \n",
              "4            5         0       3   \n",
              "\n",
              "                                                Name     Sex   Age  SibSp  \\\n",
              "0                            Braund, Mr. Owen Harris    male  22.0      1   \n",
              "1  Cumings, Mrs. John Bradley (Florence Briggs Th...  female  38.0      1   \n",
              "2                             Heikkinen, Miss. Laina  female  26.0      0   \n",
              "3       Futrelle, Mrs. Jacques Heath (Lily May Peel)  female  35.0      1   \n",
              "4                           Allen, Mr. William Henry    male  35.0      0   \n",
              "\n",
              "   Parch            Ticket     Fare Cabin Embarked  \n",
              "0      0         A/5 21171   7.2500   NaN        S  \n",
              "1      0          PC 17599  71.2833   C85        C  \n",
              "2      0  STON/O2. 3101282   7.9250   NaN        S  \n",
              "3      0            113803  53.1000  C123        S  \n",
              "4      0            373450   8.0500   NaN        S  "
            ]
          },
          "metadata": {
            "tags": []
          },
          "execution_count": 4
        }
      ]
    },
    {
      "cell_type": "markdown",
      "metadata": {
        "id": "8hG_XoA1UBPq",
        "colab_type": "text"
      },
      "source": [
        "**Q:** How many missing values in the dataset?"
      ]
    },
    {
      "cell_type": "code",
      "metadata": {
        "id": "OGJv5NAwUBPs",
        "colab_type": "code",
        "outputId": "12eab6ed-5ca3-428d-ced7-9cdecab33062",
        "colab": {
          "base_uri": "https://localhost:8080/",
          "height": 316
        }
      },
      "source": [
        "sns.heatmap(data=train.isnull(), yticklabels=False, cbar=False, cmap='viridis');"
      ],
      "execution_count": 5,
      "outputs": [
        {
          "output_type": "display_data",
          "data": {
            "image/png": "[encoded data removed]",
            "text/plain": [
              "<Figure size 432x288 with 1 Axes>"
            ]
          },
          "metadata": {
            "tags": []
          }
        }
      ]
    },
    {
      "cell_type": "markdown",
      "metadata": {
        "id": "VpoTlFTGxZxi",
        "colab_type": "text"
      },
      "source": [
        "**Checking the percentage of missing value per column.**\n",
        "\n",
        "This analysis shows us that in both datasets, the Cabin column has the most part of missing values followed by Age. In the train dataset, has 2 lines on the Embark column that are missing, and in the test dataset, it has 1 line on the Fare column. This will be treated later."
      ]
    },
    {
      "cell_type": "code",
      "metadata": {
        "id": "h4lHsft98vNS",
        "colab_type": "code",
        "colab": {
          "base_uri": "https://localhost:8080/",
          "height": 526
        },
        "outputId": "30fedcbe-c98d-45d8-a7cc-2a8450d4b106"
      },
      "source": [
        "#Missing value in each dataset\n",
        "print('Number of missing values in each column on train dataset:')\n",
        "print(train.isnull().sum(), '\\n')\n",
        "print('Number of missing values in each column on test dataset:') \n",
        "print(test.isnull().sum())"
      ],
      "execution_count": 6,
      "outputs": [
        {
          "output_type": "stream",
          "text": [
            "Number of missing values in each column on train dataset:\n",
            "PassengerId      0\n",
            "Survived         0\n",
            "Pclass           0\n",
            "Name             0\n",
            "Sex              0\n",
            "Age            177\n",
            "SibSp            0\n",
            "Parch            0\n",
            "Ticket           0\n",
            "Fare             0\n",
            "Cabin          687\n",
            "Embarked         2\n",
            "dtype: int64 \n",
            "\n",
            "Number of missing values in each column on test dataset:\n",
            "PassengerId      0\n",
            "Pclass           0\n",
            "Name             0\n",
            "Sex              0\n",
            "Age             86\n",
            "SibSp            0\n",
            "Parch            0\n",
            "Ticket           0\n",
            "Fare             1\n",
            "Cabin          327\n",
            "Embarked         0\n",
            "dtype: int64\n"
          ],
          "name": "stdout"
        }
      ]
    },
    {
      "cell_type": "markdown",
      "metadata": {
        "id": "ZJ3BuQlCxvdU",
        "colab_type": "text"
      },
      "source": [
        "**Statistical Distribution**"
      ]
    },
    {
      "cell_type": "code",
      "metadata": {
        "id": "XANwp5iNUBP1",
        "colab_type": "code",
        "outputId": "5f65a067-7eed-4db9-c690-ae5e1a423969",
        "colab": {
          "base_uri": "https://localhost:8080/",
          "height": 288
        }
      },
      "source": [
        "train.describe()"
      ],
      "execution_count": 7,
      "outputs": [
        {
          "output_type": "execute_result",
          "data": {
            "text/html": [
              "<div>\n",
              "<style scoped>\n",
              "    .dataframe tbody tr th:only-of-type {\n",
              "        vertical-align: middle;\n",
              "    }\n",
              "\n",
              "    .dataframe tbody tr th {\n",
              "        vertical-align: top;\n",
              "    }\n",
              "\n",
              "    .dataframe thead th {\n",
              "        text-align: right;\n",
              "    }\n",
              "</style>\n",
              "<table border=\"1\" class=\"dataframe\">\n",
              "  <thead>\n",
              "    <tr style=\"text-align: right;\">\n",
              "      <th></th>\n",
              "      <th>PassengerId</th>\n",
              "      <th>Survived</th>\n",
              "      <th>Pclass</th>\n",
              "      <th>Age</th>\n",
              "      <th>SibSp</th>\n",
              "      <th>Parch</th>\n",
              "      <th>Fare</th>\n",
              "    </tr>\n",
              "  </thead>\n",
              "  <tbody>\n",
              "    <tr>\n",
              "      <th>count</th>\n",
              "      <td>891.000000</td>\n",
              "      <td>891.000000</td>\n",
              "      <td>891.000000</td>\n",
              "      <td>714.000000</td>\n",
              "      <td>891.000000</td>\n",
              "      <td>891.000000</td>\n",
              "      <td>891.000000</td>\n",
              "    </tr>\n",
              "    <tr>\n",
              "      <th>mean</th>\n",
              "      <td>446.000000</td>\n",
              "      <td>0.383838</td>\n",
              "      <td>2.308642</td>\n",
              "      <td>29.699118</td>\n",
              "      <td>0.523008</td>\n",
              "      <td>0.381594</td>\n",
              "      <td>32.204208</td>\n",
              "    </tr>\n",
              "    <tr>\n",
              "      <th>std</th>\n",
              "      <td>257.353842</td>\n",
              "      <td>0.486592</td>\n",
              "      <td>0.836071</td>\n",
              "      <td>14.526497</td>\n",
              "      <td>1.102743</td>\n",
              "      <td>0.806057</td>\n",
              "      <td>49.693429</td>\n",
              "    </tr>\n",
              "    <tr>\n",
              "      <th>min</th>\n",
              "      <td>1.000000</td>\n",
              "      <td>0.000000</td>\n",
              "      <td>1.000000</td>\n",
              "      <td>0.420000</td>\n",
              "      <td>0.000000</td>\n",
              "      <td>0.000000</td>\n",
              "      <td>0.000000</td>\n",
              "    </tr>\n",
              "    <tr>\n",
              "      <th>25%</th>\n",
              "      <td>223.500000</td>\n",
              "      <td>0.000000</td>\n",
              "      <td>2.000000</td>\n",
              "      <td>20.125000</td>\n",
              "      <td>0.000000</td>\n",
              "      <td>0.000000</td>\n",
              "      <td>7.910400</td>\n",
              "    </tr>\n",
              "    <tr>\n",
              "      <th>50%</th>\n",
              "      <td>446.000000</td>\n",
              "      <td>0.000000</td>\n",
              "      <td>3.000000</td>\n",
              "      <td>28.000000</td>\n",
              "      <td>0.000000</td>\n",
              "      <td>0.000000</td>\n",
              "      <td>14.454200</td>\n",
              "    </tr>\n",
              "    <tr>\n",
              "      <th>75%</th>\n",
              "      <td>668.500000</td>\n",
              "      <td>1.000000</td>\n",
              "      <td>3.000000</td>\n",
              "      <td>38.000000</td>\n",
              "      <td>1.000000</td>\n",
              "      <td>0.000000</td>\n",
              "      <td>31.000000</td>\n",
              "    </tr>\n",
              "    <tr>\n",
              "      <th>max</th>\n",
              "      <td>891.000000</td>\n",
              "      <td>1.000000</td>\n",
              "      <td>3.000000</td>\n",
              "      <td>80.000000</td>\n",
              "      <td>8.000000</td>\n",
              "      <td>6.000000</td>\n",
              "      <td>512.329200</td>\n",
              "    </tr>\n",
              "  </tbody>\n",
              "</table>\n",
              "</div>"
            ],
            "text/plain": [
              "       PassengerId    Survived      Pclass         Age       SibSp  \\\n",
              "count   891.000000  891.000000  891.000000  714.000000  891.000000   \n",
              "mean    446.000000    0.383838    2.308642   29.699118    0.523008   \n",
              "std     257.353842    0.486592    0.836071   14.526497    1.102743   \n",
              "min       1.000000    0.000000    1.000000    0.420000    0.000000   \n",
              "25%     223.500000    0.000000    2.000000   20.125000    0.000000   \n",
              "50%     446.000000    0.000000    3.000000   28.000000    0.000000   \n",
              "75%     668.500000    1.000000    3.000000   38.000000    1.000000   \n",
              "max     891.000000    1.000000    3.000000   80.000000    8.000000   \n",
              "\n",
              "            Parch        Fare  \n",
              "count  891.000000  891.000000  \n",
              "mean     0.381594   32.204208  \n",
              "std      0.806057   49.693429  \n",
              "min      0.000000    0.000000  \n",
              "25%      0.000000    7.910400  \n",
              "50%      0.000000   14.454200  \n",
              "75%      0.000000   31.000000  \n",
              "max      6.000000  512.329200  "
            ]
          },
          "metadata": {
            "tags": []
          },
          "execution_count": 7
        }
      ]
    },
    {
      "cell_type": "markdown",
      "metadata": {
        "id": "Qk5SlxuZyXiL",
        "colab_type": "text"
      },
      "source": [
        "As it was expected, the names are unique values."
      ]
    },
    {
      "cell_type": "code",
      "metadata": {
        "id": "v2reLY-OyNKK",
        "colab_type": "code",
        "colab": {
          "base_uri": "https://localhost:8080/",
          "height": 168
        },
        "outputId": "04ac1182-559e-469d-fe8c-7a256a835e72"
      },
      "source": [
        "train.describe(include=['O'])"
      ],
      "execution_count": 8,
      "outputs": [
        {
          "output_type": "execute_result",
          "data": {
            "text/html": [
              "<div>\n",
              "<style scoped>\n",
              "    .dataframe tbody tr th:only-of-type {\n",
              "        vertical-align: middle;\n",
              "    }\n",
              "\n",
              "    .dataframe tbody tr th {\n",
              "        vertical-align: top;\n",
              "    }\n",
              "\n",
              "    .dataframe thead th {\n",
              "        text-align: right;\n",
              "    }\n",
              "</style>\n",
              "<table border=\"1\" class=\"dataframe\">\n",
              "  <thead>\n",
              "    <tr style=\"text-align: right;\">\n",
              "      <th></th>\n",
              "      <th>Name</th>\n",
              "      <th>Sex</th>\n",
              "      <th>Ticket</th>\n",
              "      <th>Cabin</th>\n",
              "      <th>Embarked</th>\n",
              "    </tr>\n",
              "  </thead>\n",
              "  <tbody>\n",
              "    <tr>\n",
              "      <th>count</th>\n",
              "      <td>891</td>\n",
              "      <td>891</td>\n",
              "      <td>891</td>\n",
              "      <td>204</td>\n",
              "      <td>889</td>\n",
              "    </tr>\n",
              "    <tr>\n",
              "      <th>unique</th>\n",
              "      <td>891</td>\n",
              "      <td>2</td>\n",
              "      <td>681</td>\n",
              "      <td>147</td>\n",
              "      <td>3</td>\n",
              "    </tr>\n",
              "    <tr>\n",
              "      <th>top</th>\n",
              "      <td>Lam, Mr. Ali</td>\n",
              "      <td>male</td>\n",
              "      <td>CA. 2343</td>\n",
              "      <td>B96 B98</td>\n",
              "      <td>S</td>\n",
              "    </tr>\n",
              "    <tr>\n",
              "      <th>freq</th>\n",
              "      <td>1</td>\n",
              "      <td>577</td>\n",
              "      <td>7</td>\n",
              "      <td>4</td>\n",
              "      <td>644</td>\n",
              "    </tr>\n",
              "  </tbody>\n",
              "</table>\n",
              "</div>"
            ],
            "text/plain": [
              "                Name   Sex    Ticket    Cabin Embarked\n",
              "count            891   891       891      204      889\n",
              "unique           891     2       681      147        3\n",
              "top     Lam, Mr. Ali  male  CA. 2343  B96 B98        S\n",
              "freq               1   577         7        4      644"
            ]
          },
          "metadata": {
            "tags": []
          },
          "execution_count": 8
        }
      ]
    },
    {
      "cell_type": "markdown",
      "metadata": {
        "id": "ijmVeJdG1v_5",
        "colab_type": "text"
      },
      "source": [
        "**Q:** What sex had the most survivors?"
      ]
    },
    {
      "cell_type": "code",
      "metadata": {
        "id": "C5CNPDMJ1kcD",
        "colab_type": "code",
        "outputId": "465fa957-0b61-439f-f35c-8f96ea48b579",
        "colab": {
          "base_uri": "https://localhost:8080/",
          "height": 279
        }
      },
      "source": [
        "sns.countplot(x='Sex', data=train, hue='Survived');"
      ],
      "execution_count": 9,
      "outputs": [
        {
          "output_type": "display_data",
          "data": {
            "image/png": "[encoded data removed]",
            "text/plain": [
              "<Figure size 432x288 with 1 Axes>"
            ]
          },
          "metadata": {
            "tags": []
          }
        }
      ]
    },
    {
      "cell_type": "markdown",
      "metadata": {
        "id": "wd0RZw6ZUBP6",
        "colab_type": "text"
      },
      "source": [
        "**Q:** What gender had more Siblings/Spouses aboard and how does this influence the chances of survival?\n",
        "\n",
        "In this case, for male it's almost doesn't influence that much, but for women, it has a large difference. The more siblings or spouses, the greater the chance of not surviving."
      ]
    },
    {
      "cell_type": "code",
      "metadata": {
        "id": "LoWvOuD_UBP7",
        "colab_type": "code",
        "outputId": "8d316b85-6758-46a3-b014-95d4570c608a",
        "colab": {
          "base_uri": "https://localhost:8080/",
          "height": 279
        }
      },
      "source": [
        "sns.barplot(x='Sex', y='SibSp', data=train, hue='Survived');"
      ],
      "execution_count": 10,
      "outputs": [
        {
          "output_type": "display_data",
          "data": {
            "image/png": "[encoded data removed]",
            "text/plain": [
              "<Figure size 432x288 with 1 Axes>"
            ]
          },
          "metadata": {
            "tags": []
          }
        }
      ]
    },
    {
      "cell_type": "markdown",
      "metadata": {
        "id": "FD_iGoFu1rRv",
        "colab_type": "text"
      },
      "source": [
        "**Q:**What gender had more parents/children aboard and how does this influence the chances of survival?\n",
        "\n",
        "In this case, for the male gender, as the more parents/children aboard, the greater the chance of survival. For female gender it is the contrary."
      ]
    },
    {
      "cell_type": "code",
      "metadata": {
        "id": "fQ_qx7_WUBP_",
        "colab_type": "code",
        "outputId": "5bf79826-eb0e-4b02-992e-314bd844c501",
        "colab": {
          "base_uri": "https://localhost:8080/",
          "height": 281
        }
      },
      "source": [
        "sns.barplot(x='Sex', y='Parch', data=train, hue='Survived',palette='Set2');"
      ],
      "execution_count": 11,
      "outputs": [
        {
          "output_type": "display_data",
          "data": {
            "image/png": "[encoded data removed]",
            "text/plain": [
              "<Figure size 432x288 with 1 Axes>"
            ]
          },
          "metadata": {
            "tags": []
          }
        }
      ]
    },
    {
      "cell_type": "markdown",
      "metadata": {
        "id": "D8sFSCCBUBQE",
        "colab_type": "text"
      },
      "source": [
        "**Q:** How many people survived in each class per gender?\n",
        "\n",
        "It's undeniable that the first and second classes had more chances to survive, and confirms the information above, women had more chances to survive than men."
      ]
    },
    {
      "cell_type": "code",
      "metadata": {
        "id": "uu01ccBcUBQH",
        "colab_type": "code",
        "outputId": "f31a8234-a9e6-4601-ca0a-1b5070538a86",
        "colab": {
          "base_uri": "https://localhost:8080/",
          "height": 279
        }
      },
      "source": [
        "sns.barplot(x='Pclass', y='Survived', data=train, hue='Sex');"
      ],
      "execution_count": 12,
      "outputs": [
        {
          "output_type": "display_data",
          "data": {
            "image/png": "[encoded data removed]",
            "text/plain": [
              "<Figure size 432x288 with 1 Axes>"
            ]
          },
          "metadata": {
            "tags": []
          }
        }
      ]
    },
    {
      "cell_type": "markdown",
      "metadata": {
        "id": "LtoU9gaQ55OV",
        "colab_type": "text"
      },
      "source": [
        "**First graphic -** Survivors per Class. Again, first and second class had more chances to survive.\n",
        "\n",
        "**Second graphic -** Survivors per Embark port. For some reason, the people who embarked on Cherbourg-Octeville in France had more chances to survive.\n",
        "\n",
        "**Third graphic -** Survivors per Fare. And again, who paid more, had more chances to survive."
      ]
    },
    {
      "cell_type": "code",
      "metadata": {
        "scrolled": true,
        "id": "kMsntSEjUBQP",
        "colab_type": "code",
        "outputId": "6e9b59be-2f5e-45c8-e39c-94f7f52e3b70",
        "colab": {
          "base_uri": "https://localhost:8080/",
          "height": 334
        }
      },
      "source": [
        "fig, (axis1, axis2, axis3)= plt.subplots(1,3, figsize=(14,5))\n",
        "\n",
        "\n",
        "sns.barplot(x='Pclass', y='Survived', data=train, ax=axis1)\n",
        "sns.barplot(x='Embarked', y='Survived', data=train, ax=axis2)\n",
        "sns.barplot(x='Survived', y='Fare', data=train, ax=axis3);"
      ],
      "execution_count": 13,
      "outputs": [
        {
          "output_type": "display_data",
          "data": {
            "image/png": "[encoded data removed]",
            "text/plain": [
              "<Figure size 1008x360 with 3 Axes>"
            ]
          },
          "metadata": {
            "tags": []
          }
        }
      ]
    },
    {
      "cell_type": "markdown",
      "metadata": {
        "id": "Zikd8oM8UBQT",
        "colab_type": "text"
      },
      "source": [
        "**Q:** Which is the survivors age?"
      ]
    },
    {
      "cell_type": "code",
      "metadata": {
        "scrolled": false,
        "id": "eeF8vhmeUBQV",
        "colab_type": "code",
        "outputId": "9ad2a762-fefe-4ac6-8fa5-aa85da6b19ef",
        "colab": {
          "base_uri": "https://localhost:8080/",
          "height": 225
        }
      },
      "source": [
        "survived_age=sns.FacetGrid(data=train, col='Survived')\n",
        "survived_age.map(sns.distplot, 'Age');"
      ],
      "execution_count": 14,
      "outputs": [
        {
          "output_type": "display_data",
          "data": {
            "image/png": "[encoded data removed]",
            "text/plain": [
              "<Figure size 432x216 with 2 Axes>"
            ]
          },
          "metadata": {
            "tags": []
          }
        }
      ]
    },
    {
      "cell_type": "markdown",
      "metadata": {
        "id": "JlFrRjT4UBQe",
        "colab_type": "text"
      },
      "source": [
        "**Q:** Had relatieves aboard influences survival?\n",
        "\n",
        "As the least relatives aboard, the more the chance to survive."
      ]
    },
    {
      "cell_type": "code",
      "metadata": {
        "scrolled": true,
        "id": "80hwb9i-UBQg",
        "colab_type": "code",
        "outputId": "eb6b2920-ded3-4ea8-a29e-3f15373728f5",
        "colab": {
          "base_uri": "https://localhost:8080/",
          "height": 279
        }
      },
      "source": [
        "fig, (axis1, axis2)=plt.subplots(1,2, figsize=(12,4))\n",
        "\n",
        "sns.countplot(x='SibSp', hue='Survived', data=train, ax=axis1)\n",
        "sns.countplot(x='Parch', hue='Survived', data=train, ax=axis2);"
      ],
      "execution_count": 15,
      "outputs": [
        {
          "output_type": "display_data",
          "data": {
            "image/png": "[encoded data removed]",
            "text/plain": [
              "<Figure size 864x288 with 2 Axes>"
            ]
          },
          "metadata": {
            "tags": []
          }
        }
      ]
    },
    {
      "cell_type": "markdown",
      "metadata": {
        "id": "0GKJGMbn8T09",
        "colab_type": "text"
      },
      "source": [
        "**Q:**What is the correlation between the features and the target?"
      ]
    },
    {
      "cell_type": "code",
      "metadata": {
        "id": "r58hrtE-UBQk",
        "colab_type": "code",
        "outputId": "3169eb57-be7b-4fe4-eaf5-4afe10bf1260",
        "colab": {
          "base_uri": "https://localhost:8080/",
          "height": 869
        }
      },
      "source": [
        "plt.figure(figsize=(20,15))\n",
        "sns.heatmap(train.corr(), annot=True, cmap='coolwarm');"
      ],
      "execution_count": 16,
      "outputs": [
        {
          "output_type": "display_data",
          "data": {
            "image/png": "[encoded data removed]",
            "text/plain": [
              "<Figure size 1440x1080 with 2 Axes>"
            ]
          },
          "metadata": {
            "tags": []
          }
        }
      ]
    },
    {
      "cell_type": "markdown",
      "metadata": {
        "id": "6CsYlqvCxahr",
        "colab_type": "text"
      },
      "source": [
        "A few blocks above, it appears that the train and test dataset had few lines in Embarked and Fare column with missing values.\n",
        "\n",
        "In the train dataset, the 2 lines with missing values on the Embarked column will be dropped, and in the test dataset, the only missing value on the Fare column will be filled with 0."
      ]
    },
    {
      "cell_type": "code",
      "metadata": {
        "id": "0_bT3uVA6hMs",
        "colab_type": "code",
        "colab": {}
      },
      "source": [
        "#Dopping the lines with missing value \n",
        "train.dropna(subset=['Embarked'],inplace=True)"
      ],
      "execution_count": 0,
      "outputs": []
    },
    {
      "cell_type": "code",
      "metadata": {
        "id": "ZmhyAip39Mqo",
        "colab_type": "code",
        "colab": {}
      },
      "source": [
        "#Replacing the missing value for 0\n",
        "test['Fare'].replace(np.nan, 0, inplace=True)"
      ],
      "execution_count": 0,
      "outputs": []
    },
    {
      "cell_type": "markdown",
      "metadata": {
        "id": "CYqi-kLXzOVL",
        "colab_type": "text"
      },
      "source": [
        "**Checking if there remains some missing value on the Embark and Fare columns**"
      ]
    },
    {
      "cell_type": "code",
      "metadata": {
        "id": "qXyGxN-M7BCl",
        "colab_type": "code",
        "outputId": "e5f39a03-63a9-4c20-e1ec-683ae284f6b0",
        "colab": {
          "base_uri": "https://localhost:8080/",
          "height": 545
        }
      },
      "source": [
        "#Checking missing values\n",
        "print('Train null lines:\\n',train.isnull().sum(),'\\n')\n",
        "print('Test null lines:\\n',test.isnull().sum(),'\\n')"
      ],
      "execution_count": 19,
      "outputs": [
        {
          "output_type": "stream",
          "text": [
            "Train null lines:\n",
            " PassengerId      0\n",
            "Survived         0\n",
            "Pclass           0\n",
            "Name             0\n",
            "Sex              0\n",
            "Age            177\n",
            "SibSp            0\n",
            "Parch            0\n",
            "Ticket           0\n",
            "Fare             0\n",
            "Cabin          687\n",
            "Embarked         0\n",
            "dtype: int64 \n",
            "\n",
            "Test null lines:\n",
            " PassengerId      0\n",
            "Pclass           0\n",
            "Name             0\n",
            "Sex              0\n",
            "Age             86\n",
            "SibSp            0\n",
            "Parch            0\n",
            "Ticket           0\n",
            "Fare             0\n",
            "Cabin          327\n",
            "Embarked         0\n",
            "dtype: int64 \n",
            "\n"
          ],
          "name": "stdout"
        }
      ]
    },
    {
      "cell_type": "markdown",
      "metadata": {
        "id": "LdEwFCoi0iM9",
        "colab_type": "text"
      },
      "source": [
        "##**3 - Data Preparation**\n",
        "\n",
        "As it shows before, there are many missing values on the Age and Cabin columns.\n",
        "To make it easier to clean, and fill the missing values the two datasets will be merged in one."
      ]
    },
    {
      "cell_type": "code",
      "metadata": {
        "id": "lvao7IvHUBQo",
        "colab_type": "code",
        "colab": {}
      },
      "source": [
        "#Extract and delete the target from train dataset\n",
        "target = train.Survived.copy()\n",
        "train.drop('Survived', axis=1, inplace=True)\n",
        "\n",
        "#Saving both datasets index\n",
        "train_index = train.shape[0]\n",
        "test_index = test.shape[0]\n",
        "\n",
        "#Savind test id for kaggle submit latter\n",
        "test_id = test.PassengerId\n",
        "\n",
        "#Joining the two datasets in one to clean and manipulate\n",
        "df_titanic = pd.concat(objs=[train, test], axis=0).reset_index(drop=True)"
      ],
      "execution_count": 0,
      "outputs": []
    },
    {
      "cell_type": "code",
      "metadata": {
        "scrolled": true,
        "id": "pVKplueXUBQt",
        "colab_type": "code",
        "outputId": "31a163d3-d140-4e89-af63-9a81edf72b24",
        "colab": {
          "base_uri": "https://localhost:8080/",
          "height": 72
        }
      },
      "source": [
        "#The two datasets merged shape\n",
        "print('df_titanic:\\nLines:\\t\\t{}\\nColumns:\\t{}'.format(df_titanic.shape[0], df_titanic.shape[1]))"
      ],
      "execution_count": 21,
      "outputs": [
        {
          "output_type": "stream",
          "text": [
            "df_titanic:\n",
            "Lines:\t\t1307\n",
            "Columns:\t11\n"
          ],
          "name": "stdout"
        }
      ]
    },
    {
      "cell_type": "markdown",
      "metadata": {
        "id": "qcbfuuU42BBo",
        "colab_type": "text"
      },
      "source": [
        "###**Filling the missing values on the Age and Cabin columns**\n",
        "\n",
        "The Cabin and Age columns remain with many missing values. To solve this, the module Simple Imputer will fill the lines with different methods for each column. On the Age feature it will be used the mean of the values from this column, and for the Cabin will be used the most frequent value."
      ]
    },
    {
      "cell_type": "code",
      "metadata": {
        "id": "AN5nL1jTwj7i",
        "colab_type": "code",
        "colab": {}
      },
      "source": [
        "imputer_age = SimpleImputer(missing_values=np.nan, strategy='mean')\n",
        "imputer_cabin = SimpleImputer(missing_values=np.nan, strategy='most_frequent')\n",
        "imputer_age = imputer_age.fit(df_titanic[['Age']])\n",
        "imputer_cabin = imputer_cabin.fit(df_titanic[['Cabin']])\n",
        "df_titanic['Age'] = imputer_age.transform(df_titanic[['Age']])\n",
        "df_titanic['Cabin'] = imputer_cabin.transform(df_titanic[['Cabin']])"
      ],
      "execution_count": 0,
      "outputs": []
    },
    {
      "cell_type": "markdown",
      "metadata": {
        "id": "JmcRreXxxQ5m",
        "colab_type": "text"
      },
      "source": [
        "Now that all changes were done, the only useless column, PassengerId, will be dropped."
      ]
    },
    {
      "cell_type": "code",
      "metadata": {
        "scrolled": true,
        "id": "BblLKD0OUBQx",
        "colab_type": "code",
        "colab": {}
      },
      "source": [
        "df_titanic.drop(['PassengerId'],axis=1, inplace=True)"
      ],
      "execution_count": 0,
      "outputs": []
    },
    {
      "cell_type": "code",
      "metadata": {
        "id": "CPUfmGEyUBRM",
        "colab_type": "code",
        "outputId": "fd095965-e33d-409f-d6a9-75beeab6ea2f",
        "colab": {
          "base_uri": "https://localhost:8080/",
          "height": 198
        }
      },
      "source": [
        "df_titanic.head()"
      ],
      "execution_count": 24,
      "outputs": [
        {
          "output_type": "execute_result",
          "data": {
            "text/html": [
              "<div>\n",
              "<style scoped>\n",
              "    .dataframe tbody tr th:only-of-type {\n",
              "        vertical-align: middle;\n",
              "    }\n",
              "\n",
              "    .dataframe tbody tr th {\n",
              "        vertical-align: top;\n",
              "    }\n",
              "\n",
              "    .dataframe thead th {\n",
              "        text-align: right;\n",
              "    }\n",
              "</style>\n",
              "<table border=\"1\" class=\"dataframe\">\n",
              "  <thead>\n",
              "    <tr style=\"text-align: right;\">\n",
              "      <th></th>\n",
              "      <th>Pclass</th>\n",
              "      <th>Name</th>\n",
              "      <th>Sex</th>\n",
              "      <th>Age</th>\n",
              "      <th>SibSp</th>\n",
              "      <th>Parch</th>\n",
              "      <th>Ticket</th>\n",
              "      <th>Fare</th>\n",
              "      <th>Cabin</th>\n",
              "      <th>Embarked</th>\n",
              "    </tr>\n",
              "  </thead>\n",
              "  <tbody>\n",
              "    <tr>\n",
              "      <th>0</th>\n",
              "      <td>3</td>\n",
              "      <td>Braund, Mr. Owen Harris</td>\n",
              "      <td>male</td>\n",
              "      <td>22.0</td>\n",
              "      <td>1</td>\n",
              "      <td>0</td>\n",
              "      <td>A/5 21171</td>\n",
              "      <td>7.2500</td>\n",
              "      <td>C23 C25 C27</td>\n",
              "      <td>S</td>\n",
              "    </tr>\n",
              "    <tr>\n",
              "      <th>1</th>\n",
              "      <td>1</td>\n",
              "      <td>Cumings, Mrs. John Bradley (Florence Briggs Th...</td>\n",
              "      <td>female</td>\n",
              "      <td>38.0</td>\n",
              "      <td>1</td>\n",
              "      <td>0</td>\n",
              "      <td>PC 17599</td>\n",
              "      <td>71.2833</td>\n",
              "      <td>C85</td>\n",
              "      <td>C</td>\n",
              "    </tr>\n",
              "    <tr>\n",
              "      <th>2</th>\n",
              "      <td>3</td>\n",
              "      <td>Heikkinen, Miss. Laina</td>\n",
              "      <td>female</td>\n",
              "      <td>26.0</td>\n",
              "      <td>0</td>\n",
              "      <td>0</td>\n",
              "      <td>STON/O2. 3101282</td>\n",
              "      <td>7.9250</td>\n",
              "      <td>C23 C25 C27</td>\n",
              "      <td>S</td>\n",
              "    </tr>\n",
              "    <tr>\n",
              "      <th>3</th>\n",
              "      <td>1</td>\n",
              "      <td>Futrelle, Mrs. Jacques Heath (Lily May Peel)</td>\n",
              "      <td>female</td>\n",
              "      <td>35.0</td>\n",
              "      <td>1</td>\n",
              "      <td>0</td>\n",
              "      <td>113803</td>\n",
              "      <td>53.1000</td>\n",
              "      <td>C123</td>\n",
              "      <td>S</td>\n",
              "    </tr>\n",
              "    <tr>\n",
              "      <th>4</th>\n",
              "      <td>3</td>\n",
              "      <td>Allen, Mr. William Henry</td>\n",
              "      <td>male</td>\n",
              "      <td>35.0</td>\n",
              "      <td>0</td>\n",
              "      <td>0</td>\n",
              "      <td>373450</td>\n",
              "      <td>8.0500</td>\n",
              "      <td>C23 C25 C27</td>\n",
              "      <td>S</td>\n",
              "    </tr>\n",
              "  </tbody>\n",
              "</table>\n",
              "</div>"
            ],
            "text/plain": [
              "   Pclass                                               Name     Sex   Age  \\\n",
              "0       3                            Braund, Mr. Owen Harris    male  22.0   \n",
              "1       1  Cumings, Mrs. John Bradley (Florence Briggs Th...  female  38.0   \n",
              "2       3                             Heikkinen, Miss. Laina  female  26.0   \n",
              "3       1       Futrelle, Mrs. Jacques Heath (Lily May Peel)  female  35.0   \n",
              "4       3                           Allen, Mr. William Henry    male  35.0   \n",
              "\n",
              "   SibSp  Parch            Ticket     Fare        Cabin Embarked  \n",
              "0      1      0         A/5 21171   7.2500  C23 C25 C27        S  \n",
              "1      1      0          PC 17599  71.2833          C85        C  \n",
              "2      0      0  STON/O2. 3101282   7.9250  C23 C25 C27        S  \n",
              "3      1      0            113803  53.1000         C123        S  \n",
              "4      0      0            373450   8.0500  C23 C25 C27        S  "
            ]
          },
          "metadata": {
            "tags": []
          },
          "execution_count": 24
        }
      ]
    },
    {
      "cell_type": "markdown",
      "metadata": {
        "id": "fHjRgoJAx5wD",
        "colab_type": "text"
      },
      "source": [
        "The names are unique, but when looking at it close, they have a treatment pronoun. So it was created a function to split the name and get this pronoun, this will be used to build our model."
      ]
    },
    {
      "cell_type": "code",
      "metadata": {
        "id": "JTGVdNTPUBRQ",
        "colab_type": "code",
        "colab": {}
      },
      "source": [
        "def return_name(name):\n",
        "\n",
        "  '''Returns the treatment pronoun of each line in the column name'''\n",
        "  \n",
        "  name = name.split(',')\n",
        "  return(name[1].split('.')[0])\n",
        "    "
      ],
      "execution_count": 0,
      "outputs": []
    },
    {
      "cell_type": "code",
      "metadata": {
        "id": "F2IoxaAPUBRU",
        "colab_type": "code",
        "colab": {}
      },
      "source": [
        "#Apply the function on the column\n",
        "df_titanic['Name'] = df_titanic['Name'].apply(return_name)"
      ],
      "execution_count": 0,
      "outputs": []
    },
    {
      "cell_type": "markdown",
      "metadata": {
        "id": "x0rpe5oi2R2o",
        "colab_type": "text"
      },
      "source": [
        "For this model, the categorical variables will be changed to numerical variables using the LabelEncoder module."
      ]
    },
    {
      "cell_type": "code",
      "metadata": {
        "id": "1NnE2LuwwPsB",
        "colab_type": "code",
        "outputId": "004ad963-43a0-40c5-a8f5-b8461b02cef7",
        "colab": {
          "base_uri": "https://localhost:8080/",
          "height": 198
        }
      },
      "source": [
        "#Create a list with all the categorical variables\n",
        "cat_features = ['Name', 'Sex', 'Ticket', 'Cabin', 'Embarked']\n",
        "\n",
        "#Creating a variable with the LabelEncoder functions \n",
        "encoder=LabelEncoder()\n",
        "\n",
        "#Apply the label encoder to each column\n",
        "encoded=df_titanic[cat_features].apply(encoder.fit_transform)\n",
        "encoded.head()"
      ],
      "execution_count": 27,
      "outputs": [
        {
          "output_type": "execute_result",
          "data": {
            "text/html": [
              "<div>\n",
              "<style scoped>\n",
              "    .dataframe tbody tr th:only-of-type {\n",
              "        vertical-align: middle;\n",
              "    }\n",
              "\n",
              "    .dataframe tbody tr th {\n",
              "        vertical-align: top;\n",
              "    }\n",
              "\n",
              "    .dataframe thead th {\n",
              "        text-align: right;\n",
              "    }\n",
              "</style>\n",
              "<table border=\"1\" class=\"dataframe\">\n",
              "  <thead>\n",
              "    <tr style=\"text-align: right;\">\n",
              "      <th></th>\n",
              "      <th>Name</th>\n",
              "      <th>Sex</th>\n",
              "      <th>Ticket</th>\n",
              "      <th>Cabin</th>\n",
              "      <th>Embarked</th>\n",
              "    </tr>\n",
              "  </thead>\n",
              "  <tbody>\n",
              "    <tr>\n",
              "      <th>0</th>\n",
              "      <td>12</td>\n",
              "      <td>1</td>\n",
              "      <td>719</td>\n",
              "      <td>79</td>\n",
              "      <td>2</td>\n",
              "    </tr>\n",
              "    <tr>\n",
              "      <th>1</th>\n",
              "      <td>13</td>\n",
              "      <td>0</td>\n",
              "      <td>815</td>\n",
              "      <td>105</td>\n",
              "      <td>0</td>\n",
              "    </tr>\n",
              "    <tr>\n",
              "      <th>2</th>\n",
              "      <td>9</td>\n",
              "      <td>0</td>\n",
              "      <td>913</td>\n",
              "      <td>79</td>\n",
              "      <td>2</td>\n",
              "    </tr>\n",
              "    <tr>\n",
              "      <th>3</th>\n",
              "      <td>13</td>\n",
              "      <td>0</td>\n",
              "      <td>64</td>\n",
              "      <td>69</td>\n",
              "      <td>2</td>\n",
              "    </tr>\n",
              "    <tr>\n",
              "      <th>4</th>\n",
              "      <td>12</td>\n",
              "      <td>1</td>\n",
              "      <td>648</td>\n",
              "      <td>79</td>\n",
              "      <td>2</td>\n",
              "    </tr>\n",
              "  </tbody>\n",
              "</table>\n",
              "</div>"
            ],
            "text/plain": [
              "   Name  Sex  Ticket  Cabin  Embarked\n",
              "0    12    1     719     79         2\n",
              "1    13    0     815    105         0\n",
              "2     9    0     913     79         2\n",
              "3    13    0      64     69         2\n",
              "4    12    1     648     79         2"
            ]
          },
          "metadata": {
            "tags": []
          },
          "execution_count": 27
        }
      ]
    },
    {
      "cell_type": "markdown",
      "metadata": {
        "id": "F_bBddvr2OXT",
        "colab_type": "text"
      },
      "source": [
        "These variables must be put in the dataset replacing the categorical ones. But before the variables must be renamed."
      ]
    },
    {
      "cell_type": "code",
      "metadata": {
        "id": "UhMri_jJ1sJR",
        "colab_type": "code",
        "colab": {}
      },
      "source": [
        "#Renaming the columns\n",
        "encoded.rename(columns={'Name': 'Name_encoded', 'Sex': 'Sex_encoded',\n",
        "                        'Ticket': 'Ticket_encoded', 'Cabin':'Cabin_encoded', 'Embarked': 'Embarked_encoded'}, inplace=True)"
      ],
      "execution_count": 0,
      "outputs": []
    },
    {
      "cell_type": "code",
      "metadata": {
        "id": "fZEiRf902IFw",
        "colab_type": "code",
        "outputId": "ffa28013-973b-4155-a98a-8e7aac153022",
        "colab": {
          "base_uri": "https://localhost:8080/",
          "height": 198
        }
      },
      "source": [
        "#Checking the columns renamed.\n",
        "encoded.head()"
      ],
      "execution_count": 29,
      "outputs": [
        {
          "output_type": "execute_result",
          "data": {
            "text/html": [
              "<div>\n",
              "<style scoped>\n",
              "    .dataframe tbody tr th:only-of-type {\n",
              "        vertical-align: middle;\n",
              "    }\n",
              "\n",
              "    .dataframe tbody tr th {\n",
              "        vertical-align: top;\n",
              "    }\n",
              "\n",
              "    .dataframe thead th {\n",
              "        text-align: right;\n",
              "    }\n",
              "</style>\n",
              "<table border=\"1\" class=\"dataframe\">\n",
              "  <thead>\n",
              "    <tr style=\"text-align: right;\">\n",
              "      <th></th>\n",
              "      <th>Name_encoded</th>\n",
              "      <th>Sex_encoded</th>\n",
              "      <th>Ticket_encoded</th>\n",
              "      <th>Cabin_encoded</th>\n",
              "      <th>Embarked_encoded</th>\n",
              "    </tr>\n",
              "  </thead>\n",
              "  <tbody>\n",
              "    <tr>\n",
              "      <th>0</th>\n",
              "      <td>12</td>\n",
              "      <td>1</td>\n",
              "      <td>719</td>\n",
              "      <td>79</td>\n",
              "      <td>2</td>\n",
              "    </tr>\n",
              "    <tr>\n",
              "      <th>1</th>\n",
              "      <td>13</td>\n",
              "      <td>0</td>\n",
              "      <td>815</td>\n",
              "      <td>105</td>\n",
              "      <td>0</td>\n",
              "    </tr>\n",
              "    <tr>\n",
              "      <th>2</th>\n",
              "      <td>9</td>\n",
              "      <td>0</td>\n",
              "      <td>913</td>\n",
              "      <td>79</td>\n",
              "      <td>2</td>\n",
              "    </tr>\n",
              "    <tr>\n",
              "      <th>3</th>\n",
              "      <td>13</td>\n",
              "      <td>0</td>\n",
              "      <td>64</td>\n",
              "      <td>69</td>\n",
              "      <td>2</td>\n",
              "    </tr>\n",
              "    <tr>\n",
              "      <th>4</th>\n",
              "      <td>12</td>\n",
              "      <td>1</td>\n",
              "      <td>648</td>\n",
              "      <td>79</td>\n",
              "      <td>2</td>\n",
              "    </tr>\n",
              "  </tbody>\n",
              "</table>\n",
              "</div>"
            ],
            "text/plain": [
              "   Name_encoded  Sex_encoded  Ticket_encoded  Cabin_encoded  Embarked_encoded\n",
              "0            12            1             719             79                 2\n",
              "1            13            0             815            105                 0\n",
              "2             9            0             913             79                 2\n",
              "3            13            0              64             69                 2\n",
              "4            12            1             648             79                 2"
            ]
          },
          "metadata": {
            "tags": []
          },
          "execution_count": 29
        }
      ]
    },
    {
      "cell_type": "markdown",
      "metadata": {
        "id": "lCbjvDKZ30xU",
        "colab_type": "text"
      },
      "source": [
        "Now that the columns became numerical, it is time to merge the columns encoded to the dataset and drop the categoricals."
      ]
    },
    {
      "cell_type": "code",
      "metadata": {
        "id": "ypari7QHUBRs",
        "colab_type": "code",
        "colab": {}
      },
      "source": [
        "#Concating the encoded varible to dataset\n",
        "df_titanic = pd.concat(objs=[df_titanic, encoded], axis=1)\n",
        "\n",
        "#Dropping the categorical columns\n",
        "df_titanic.drop(['Name', 'Sex', 'Ticket', 'Cabin', 'Embarked'], axis=1, inplace=True)"
      ],
      "execution_count": 0,
      "outputs": []
    },
    {
      "cell_type": "code",
      "metadata": {
        "id": "607_Qx0U9ajL",
        "colab_type": "code",
        "outputId": "accad06d-ca42-4073-e6bb-f50a823059d8",
        "colab": {
          "base_uri": "https://localhost:8080/",
          "height": 198
        }
      },
      "source": [
        "#Checking the dataset after the changes\n",
        "df_titanic.head()"
      ],
      "execution_count": 31,
      "outputs": [
        {
          "output_type": "execute_result",
          "data": {
            "text/html": [
              "<div>\n",
              "<style scoped>\n",
              "    .dataframe tbody tr th:only-of-type {\n",
              "        vertical-align: middle;\n",
              "    }\n",
              "\n",
              "    .dataframe tbody tr th {\n",
              "        vertical-align: top;\n",
              "    }\n",
              "\n",
              "    .dataframe thead th {\n",
              "        text-align: right;\n",
              "    }\n",
              "</style>\n",
              "<table border=\"1\" class=\"dataframe\">\n",
              "  <thead>\n",
              "    <tr style=\"text-align: right;\">\n",
              "      <th></th>\n",
              "      <th>Pclass</th>\n",
              "      <th>Age</th>\n",
              "      <th>SibSp</th>\n",
              "      <th>Parch</th>\n",
              "      <th>Fare</th>\n",
              "      <th>Name_encoded</th>\n",
              "      <th>Sex_encoded</th>\n",
              "      <th>Ticket_encoded</th>\n",
              "      <th>Cabin_encoded</th>\n",
              "      <th>Embarked_encoded</th>\n",
              "    </tr>\n",
              "  </thead>\n",
              "  <tbody>\n",
              "    <tr>\n",
              "      <th>0</th>\n",
              "      <td>3</td>\n",
              "      <td>22.0</td>\n",
              "      <td>1</td>\n",
              "      <td>0</td>\n",
              "      <td>7.2500</td>\n",
              "      <td>12</td>\n",
              "      <td>1</td>\n",
              "      <td>719</td>\n",
              "      <td>79</td>\n",
              "      <td>2</td>\n",
              "    </tr>\n",
              "    <tr>\n",
              "      <th>1</th>\n",
              "      <td>1</td>\n",
              "      <td>38.0</td>\n",
              "      <td>1</td>\n",
              "      <td>0</td>\n",
              "      <td>71.2833</td>\n",
              "      <td>13</td>\n",
              "      <td>0</td>\n",
              "      <td>815</td>\n",
              "      <td>105</td>\n",
              "      <td>0</td>\n",
              "    </tr>\n",
              "    <tr>\n",
              "      <th>2</th>\n",
              "      <td>3</td>\n",
              "      <td>26.0</td>\n",
              "      <td>0</td>\n",
              "      <td>0</td>\n",
              "      <td>7.9250</td>\n",
              "      <td>9</td>\n",
              "      <td>0</td>\n",
              "      <td>913</td>\n",
              "      <td>79</td>\n",
              "      <td>2</td>\n",
              "    </tr>\n",
              "    <tr>\n",
              "      <th>3</th>\n",
              "      <td>1</td>\n",
              "      <td>35.0</td>\n",
              "      <td>1</td>\n",
              "      <td>0</td>\n",
              "      <td>53.1000</td>\n",
              "      <td>13</td>\n",
              "      <td>0</td>\n",
              "      <td>64</td>\n",
              "      <td>69</td>\n",
              "      <td>2</td>\n",
              "    </tr>\n",
              "    <tr>\n",
              "      <th>4</th>\n",
              "      <td>3</td>\n",
              "      <td>35.0</td>\n",
              "      <td>0</td>\n",
              "      <td>0</td>\n",
              "      <td>8.0500</td>\n",
              "      <td>12</td>\n",
              "      <td>1</td>\n",
              "      <td>648</td>\n",
              "      <td>79</td>\n",
              "      <td>2</td>\n",
              "    </tr>\n",
              "  </tbody>\n",
              "</table>\n",
              "</div>"
            ],
            "text/plain": [
              "   Pclass   Age  SibSp  Parch     Fare  Name_encoded  Sex_encoded  \\\n",
              "0       3  22.0      1      0   7.2500            12            1   \n",
              "1       1  38.0      1      0  71.2833            13            0   \n",
              "2       3  26.0      0      0   7.9250             9            0   \n",
              "3       1  35.0      1      0  53.1000            13            0   \n",
              "4       3  35.0      0      0   8.0500            12            1   \n",
              "\n",
              "   Ticket_encoded  Cabin_encoded  Embarked_encoded  \n",
              "0             719             79                 2  \n",
              "1             815            105                 0  \n",
              "2             913             79                 2  \n",
              "3              64             69                 2  \n",
              "4             648             79                 2  "
            ]
          },
          "metadata": {
            "tags": []
          },
          "execution_count": 31
        }
      ]
    },
    {
      "cell_type": "markdown",
      "metadata": {
        "id": "ahQaJm4E4z7W",
        "colab_type": "text"
      },
      "source": [
        "After all the changes, the dataset must be split in two again for us to starting to build the model. "
      ]
    },
    {
      "cell_type": "code",
      "metadata": {
        "id": "IC9pBGuSUBR0",
        "colab_type": "code",
        "colab": {}
      },
      "source": [
        "#Separating the datasets in train and test\n",
        "train=df_titanic.iloc[:train_index]\n",
        "test=df_titanic.iloc[train_index:]"
      ],
      "execution_count": 0,
      "outputs": []
    },
    {
      "cell_type": "markdown",
      "metadata": {
        "id": "UC2R2aTr5paJ",
        "colab_type": "text"
      },
      "source": [
        "##**4 - Building the Model**\n",
        "Now that the dataset was explored and analyzed, it's time to build the machine learning model. First of all, it must be decided the best model, to get this, let's test some methods and check which returns the best score.\n",
        "It's gonna be tested RandomForest, ExtraTreesForest, and XGBClassifier. To get the best params it will be used the GridSearch method, it tests a list of params to find which returns the best configuration.  Before starting, the variable containing features columns and the variable containing the target must be created."
      ]
    },
    {
      "cell_type": "code",
      "metadata": {
        "id": "SDeMY5P9UBR5",
        "colab_type": "code",
        "colab": {}
      },
      "source": [
        "#X - Feature variable, y - target variable\n",
        "y=target.copy()\n",
        "X=train.copy()"
      ],
      "execution_count": 0,
      "outputs": []
    },
    {
      "cell_type": "markdown",
      "metadata": {
        "id": "HFF6HuJa8lz3",
        "colab_type": "text"
      },
      "source": [
        "Testing the ExtraTrees accuracy."
      ]
    },
    {
      "cell_type": "code",
      "metadata": {
        "id": "uGkgBt9sw2na",
        "colab_type": "code",
        "colab": {
          "base_uri": "https://localhost:8080/",
          "height": 401
        },
        "outputId": "45039e00-4c57-4e58-be30-4b6d6e214a6e"
      },
      "source": [
        "#Assign the ExtraTrees model\n",
        "model = ExtraTreesClassifier()\n",
        "\n",
        "#Defining the list of params to test and choose the best\n",
        "n_estimators=[250, 300, 350, 400]\n",
        "max_depth=[1,2, 3]\n",
        "\n",
        "#Training the model using the params above\n",
        "param_grid=dict(max_depth=max_depth, n_estimators=n_estimators)\n",
        "kfold=StratifiedKFold(n_splits=20, shuffle=True, random_state=0)\n",
        "grid_search = GridSearchCV(model, param_grid, scoring=\"accuracy\",n_jobs=4, cv=kfold, verbose=1)\n",
        "grid_result = grid_search.fit(X, y)\n",
        "\n",
        "#Printing the best results\n",
        "print('Best: %f using %s' %(grid_result.best_score_, grid_result.best_params_))\n",
        "means = grid_result.cv_results_['mean_test_score']\n",
        "stds = grid_result.cv_results_['std_test_score']\n",
        "params = grid_result.cv_results_['params']\n",
        "\n",
        "for mean, stdev, param in zip(means, stds, params):\n",
        "    print('%f (%f) with %r:' %(mean, stdev, param))"
      ],
      "execution_count": 43,
      "outputs": [
        {
          "output_type": "stream",
          "text": [
            "Fitting 20 folds for each of 12 candidates, totalling 240 fits\n"
          ],
          "name": "stdout"
        },
        {
          "output_type": "stream",
          "text": [
            "[Parallel(n_jobs=4)]: Using backend LokyBackend with 4 concurrent workers.\n",
            "[Parallel(n_jobs=4)]: Done  42 tasks      | elapsed:   14.0s\n",
            "[Parallel(n_jobs=4)]: Done 192 tasks      | elapsed:   55.6s\n",
            "[Parallel(n_jobs=4)]: Done 240 out of 240 | elapsed:  1.2min finished\n",
            "/usr/local/lib/python3.6/dist-packages/sklearn/model_selection/_search.py:814: DeprecationWarning: The default of the `iid` parameter will change from True to False in version 0.22 and will be removed in 0.24. This will change numeric results when test-set sizes are unequal.\n",
            "  DeprecationWarning)\n"
          ],
          "name": "stderr"
        },
        {
          "output_type": "stream",
          "text": [
            "Best: 0.806524 using {'max_depth': 3, 'n_estimators': 250}\n",
            "0.751406 (0.052811) with {'max_depth': 1, 'n_estimators': 250}:\n",
            "0.761530 (0.048472) with {'max_depth': 1, 'n_estimators': 300}:\n",
            "0.753656 (0.052400) with {'max_depth': 1, 'n_estimators': 350}:\n",
            "0.763780 (0.057112) with {'max_depth': 1, 'n_estimators': 400}:\n",
            "0.798650 (0.066369) with {'max_depth': 2, 'n_estimators': 250}:\n",
            "0.804274 (0.071089) with {'max_depth': 2, 'n_estimators': 300}:\n",
            "0.796400 (0.072503) with {'max_depth': 2, 'n_estimators': 350}:\n",
            "0.805399 (0.060320) with {'max_depth': 2, 'n_estimators': 400}:\n",
            "0.806524 (0.073468) with {'max_depth': 3, 'n_estimators': 250}:\n",
            "0.800900 (0.072128) with {'max_depth': 3, 'n_estimators': 300}:\n",
            "0.805399 (0.074853) with {'max_depth': 3, 'n_estimators': 350}:\n",
            "0.802025 (0.070443) with {'max_depth': 3, 'n_estimators': 400}:\n"
          ],
          "name": "stdout"
        }
      ]
    },
    {
      "cell_type": "markdown",
      "metadata": {
        "id": "Fvfar63tzY1H",
        "colab_type": "text"
      },
      "source": [
        "Let's test the ExtraTrees model on the test dataset and send the result to Kaggle."
      ]
    },
    {
      "cell_type": "code",
      "metadata": {
        "id": "rjHUNoWiy_ae",
        "colab_type": "code",
        "colab": {}
      },
      "source": [
        "#Using the model in the test dataset\n",
        "test_pred = grid_result.predict(test)\n",
        "\n",
        "submission = pd.DataFrame({\n",
        "    'PassengerId': test_id,\n",
        "    'Survived': test_pred\n",
        "})\n",
        "\n",
        "#Generating the file to submit\n",
        "submission.to_csv('submission_extra.csv', index=False)"
      ],
      "execution_count": 0,
      "outputs": []
    },
    {
      "cell_type": "markdown",
      "metadata": {
        "id": "oBGzWNR-3P3Y",
        "colab_type": "text"
      },
      "source": [
        "The Results!\n",
        "\n",
        "<img src=https://raw.githubusercontent.com/DenisePotenza/Portfolio-DS/master/Images/titanic-extras.jpg width=800px>"
      ]
    },
    {
      "cell_type": "markdown",
      "metadata": {
        "id": "QiDM7nlVywmY",
        "colab_type": "text"
      },
      "source": [
        "Testing the RandomForest accuracy."
      ]
    },
    {
      "cell_type": "code",
      "metadata": {
        "id": "5UvzR0WrUBSA",
        "colab_type": "code",
        "outputId": "0f100e2f-fb08-4d84-d608-59eca068faf8",
        "colab": {
          "base_uri": "https://localhost:8080/",
          "height": 401
        }
      },
      "source": [
        "#Assign the RandomForest model\n",
        "model=RandomForestClassifier()\n",
        "\n",
        "#Defining the list of params to test and choose the best\n",
        "n_estimators=[250, 300, 350, 400]\n",
        "max_depth=[1,2, 3]\n",
        "\n",
        "#Training the model using the params above\n",
        "param_grid=dict(max_depth=max_depth, n_estimators=n_estimators)\n",
        "kfold=StratifiedKFold(n_splits=20, shuffle=True, random_state=0)\n",
        "grid_search = GridSearchCV(model, param_grid, scoring=\"accuracy\",n_jobs=4, cv=kfold, verbose=1)\n",
        "grid_result = grid_search.fit(X, y)\n",
        "\n",
        "#Printing the best results\n",
        "print('Best: %f using %s' %(grid_result.best_score_, grid_result.best_params_))\n",
        "means = grid_result.cv_results_['mean_test_score']\n",
        "stds = grid_result.cv_results_['std_test_score']\n",
        "params = grid_result.cv_results_['params']\n",
        "\n",
        "for mean, stdev, param in zip(means, stds, params):\n",
        "    print('%f (%f) with %r:' %(mean, stdev, param))"
      ],
      "execution_count": 42,
      "outputs": [
        {
          "output_type": "stream",
          "text": [
            "Fitting 20 folds for each of 12 candidates, totalling 240 fits\n"
          ],
          "name": "stdout"
        },
        {
          "output_type": "stream",
          "text": [
            "[Parallel(n_jobs=4)]: Using backend LokyBackend with 4 concurrent workers.\n",
            "[Parallel(n_jobs=4)]: Done  42 tasks      | elapsed:   17.7s\n",
            "[Parallel(n_jobs=4)]: Done 192 tasks      | elapsed:  1.3min\n",
            "[Parallel(n_jobs=4)]: Done 240 out of 240 | elapsed:  1.6min finished\n",
            "/usr/local/lib/python3.6/dist-packages/sklearn/model_selection/_search.py:814: DeprecationWarning: The default of the `iid` parameter will change from True to False in version 0.22 and will be removed in 0.24. This will change numeric results when test-set sizes are unequal.\n",
            "  DeprecationWarning)\n"
          ],
          "name": "stderr"
        },
        {
          "output_type": "stream",
          "text": [
            "Best: 0.818898 using {'max_depth': 3, 'n_estimators': 250}\n",
            "0.772778 (0.051433) with {'max_depth': 1, 'n_estimators': 250}:\n",
            "0.781777 (0.060624) with {'max_depth': 1, 'n_estimators': 300}:\n",
            "0.766029 (0.052326) with {'max_depth': 1, 'n_estimators': 350}:\n",
            "0.769404 (0.051348) with {'max_depth': 1, 'n_estimators': 400}:\n",
            "0.787402 (0.060493) with {'max_depth': 2, 'n_estimators': 250}:\n",
            "0.790776 (0.064492) with {'max_depth': 2, 'n_estimators': 300}:\n",
            "0.796400 (0.065791) with {'max_depth': 2, 'n_estimators': 350}:\n",
            "0.797525 (0.064891) with {'max_depth': 2, 'n_estimators': 400}:\n",
            "0.818898 (0.067866) with {'max_depth': 3, 'n_estimators': 250}:\n",
            "0.814398 (0.063353) with {'max_depth': 3, 'n_estimators': 300}:\n",
            "0.812148 (0.062241) with {'max_depth': 3, 'n_estimators': 350}:\n",
            "0.814398 (0.064195) with {'max_depth': 3, 'n_estimators': 400}:\n"
          ],
          "name": "stdout"
        }
      ]
    },
    {
      "cell_type": "markdown",
      "metadata": {
        "id": "3GUX7EWv1AqN",
        "colab_type": "text"
      },
      "source": [
        "Let's test the RandomForest model on the test dataset and send the result to Kaggle."
      ]
    },
    {
      "cell_type": "code",
      "metadata": {
        "id": "mTzBi4Gn0_Rk",
        "colab_type": "code",
        "colab": {}
      },
      "source": [
        "#Using the model in the test dataset\n",
        "test_pred = grid_result.predict(test)\n",
        "\n",
        "submission = pd.DataFrame({\n",
        "    'PassengerId': test_id,\n",
        "    'Survived': test_pred\n",
        "})\n",
        "\n",
        "#Generating the file to submit\n",
        "submission.to_csv('submission_random.csv', index=False)"
      ],
      "execution_count": 0,
      "outputs": []
    },
    {
      "cell_type": "markdown",
      "metadata": {
        "id": "nUuJHxUN3lhX",
        "colab_type": "text"
      },
      "source": [
        "The Results!\n",
        "\n",
        "<img src=https://raw.githubusercontent.com/DenisePotenza/Portfolio-DS/master/Images/titanic-random.jpg width=800px>"
      ]
    },
    {
      "cell_type": "markdown",
      "metadata": {
        "id": "-hmTIvGP1Xhi",
        "colab_type": "text"
      },
      "source": [
        "Testing the XGBClassifier accuracy."
      ]
    },
    {
      "cell_type": "code",
      "metadata": {
        "id": "n4T0xqYezCoq",
        "colab_type": "code",
        "colab": {
          "base_uri": "https://localhost:8080/",
          "height": 637
        },
        "outputId": "ad8721fa-93db-479f-dd8d-38aee2d0ba0b"
      },
      "source": [
        "#Assign the XGBClassifier model\n",
        "model=XGBClassifier()\n",
        "\n",
        "#Defining the list of params to test and choose the best\n",
        "n_estimators=[150, 200, 250, 300]\n",
        "max_depth=[1,2, 3]\n",
        "learning_rate=[0.1,0.2]\n",
        "\n",
        "#Training the model using the params above\n",
        "param_grid=dict(max_depth=max_depth, n_estimators=n_estimators, learning_rate=learning_rate)\n",
        "kfold=StratifiedKFold(n_splits=20, shuffle=True, random_state=0)\n",
        "grid_search = GridSearchCV(model, param_grid, scoring=\"accuracy\",n_jobs=4, cv=kfold, verbose=1)\n",
        "grid_result = grid_search.fit(X, y)\n",
        "\n",
        "#Printing the best results\n",
        "print('Best: %f using %s' %(grid_result.best_score_, grid_result.best_params_))\n",
        "means = grid_result.cv_results_['mean_test_score']\n",
        "stds = grid_result.cv_results_['std_test_score']\n",
        "params = grid_result.cv_results_['params']\n",
        "\n",
        "for mean, stdev, param in zip(means, stds, params):\n",
        "    print('%f (%f) with %r:' %(mean, stdev, param))"
      ],
      "execution_count": 38,
      "outputs": [
        {
          "output_type": "stream",
          "text": [
            "Fitting 20 folds for each of 24 candidates, totalling 480 fits\n"
          ],
          "name": "stdout"
        },
        {
          "output_type": "stream",
          "text": [
            "[Parallel(n_jobs=4)]: Using backend LokyBackend with 4 concurrent workers.\n",
            "[Parallel(n_jobs=4)]: Done  42 tasks      | elapsed:    5.3s\n",
            "[Parallel(n_jobs=4)]: Done 192 tasks      | elapsed:   15.6s\n",
            "[Parallel(n_jobs=4)]: Done 442 tasks      | elapsed:   33.6s\n"
          ],
          "name": "stderr"
        },
        {
          "output_type": "stream",
          "text": [
            "Best: 0.848144 using {'learning_rate': 0.1, 'max_depth': 3, 'n_estimators': 250}\n",
            "0.817773 (0.061339) with {'learning_rate': 0.1, 'max_depth': 1, 'n_estimators': 150}:\n",
            "0.822272 (0.065798) with {'learning_rate': 0.1, 'max_depth': 1, 'n_estimators': 200}:\n",
            "0.821147 (0.065439) with {'learning_rate': 0.1, 'max_depth': 1, 'n_estimators': 250}:\n",
            "0.824522 (0.064294) with {'learning_rate': 0.1, 'max_depth': 1, 'n_estimators': 300}:\n",
            "0.830146 (0.060843) with {'learning_rate': 0.1, 'max_depth': 2, 'n_estimators': 150}:\n",
            "0.833521 (0.060048) with {'learning_rate': 0.1, 'max_depth': 2, 'n_estimators': 200}:\n",
            "0.839145 (0.059236) with {'learning_rate': 0.1, 'max_depth': 2, 'n_estimators': 250}:\n",
            "0.844769 (0.058964) with {'learning_rate': 0.1, 'max_depth': 2, 'n_estimators': 300}:\n",
            "0.841395 (0.068865) with {'learning_rate': 0.1, 'max_depth': 3, 'n_estimators': 150}:\n",
            "0.845894 (0.060389) with {'learning_rate': 0.1, 'max_depth': 3, 'n_estimators': 200}:\n",
            "0.848144 (0.059229) with {'learning_rate': 0.1, 'max_depth': 3, 'n_estimators': 250}:\n",
            "0.844769 (0.061065) with {'learning_rate': 0.1, 'max_depth': 3, 'n_estimators': 300}:\n",
            "0.829021 (0.064290) with {'learning_rate': 0.2, 'max_depth': 1, 'n_estimators': 150}:\n",
            "0.833521 (0.064310) with {'learning_rate': 0.2, 'max_depth': 1, 'n_estimators': 200}:\n",
            "0.836895 (0.063330) with {'learning_rate': 0.2, 'max_depth': 1, 'n_estimators': 250}:\n",
            "0.836895 (0.062934) with {'learning_rate': 0.2, 'max_depth': 1, 'n_estimators': 300}:\n",
            "0.842520 (0.060718) with {'learning_rate': 0.2, 'max_depth': 2, 'n_estimators': 150}:\n",
            "0.843645 (0.061316) with {'learning_rate': 0.2, 'max_depth': 2, 'n_estimators': 200}:\n",
            "0.848144 (0.059473) with {'learning_rate': 0.2, 'max_depth': 2, 'n_estimators': 250}:\n",
            "0.847019 (0.061002) with {'learning_rate': 0.2, 'max_depth': 2, 'n_estimators': 300}:\n",
            "0.835771 (0.067317) with {'learning_rate': 0.2, 'max_depth': 3, 'n_estimators': 150}:\n",
            "0.841395 (0.073087) with {'learning_rate': 0.2, 'max_depth': 3, 'n_estimators': 200}:\n",
            "0.834646 (0.074916) with {'learning_rate': 0.2, 'max_depth': 3, 'n_estimators': 250}:\n",
            "0.833521 (0.073240) with {'learning_rate': 0.2, 'max_depth': 3, 'n_estimators': 300}:\n"
          ],
          "name": "stdout"
        },
        {
          "output_type": "stream",
          "text": [
            "[Parallel(n_jobs=4)]: Done 480 out of 480 | elapsed:   37.6s finished\n",
            "/usr/local/lib/python3.6/dist-packages/sklearn/model_selection/_search.py:814: DeprecationWarning: The default of the `iid` parameter will change from True to False in version 0.22 and will be removed in 0.24. This will change numeric results when test-set sizes are unequal.\n",
            "  DeprecationWarning)\n"
          ],
          "name": "stderr"
        }
      ]
    },
    {
      "cell_type": "markdown",
      "metadata": {
        "id": "sE-bQ7vc1cUs",
        "colab_type": "text"
      },
      "source": [
        "Let's test the XGBClassifier model on the test dataset and send the result to Kaggle."
      ]
    },
    {
      "cell_type": "code",
      "metadata": {
        "id": "BSozwS0JUBSH",
        "colab_type": "code",
        "colab": {}
      },
      "source": [
        "#Using the model in the test dataset\n",
        "test_pred = grid_result.predict(test)\n",
        "\n",
        "submission = pd.DataFrame({\n",
        "    'PassengerId': test_id,\n",
        "    'Survived': test_pred\n",
        "})\n",
        "\n",
        "#Generating the file to submit\n",
        "submission.to_csv('submission_xgb.csv', index=False)"
      ],
      "execution_count": 0,
      "outputs": []
    },
    {
      "cell_type": "markdown",
      "metadata": {
        "id": "l0fVjlu330BW",
        "colab_type": "text"
      },
      "source": [
        "The Results!\n",
        "\n",
        "<img src=https://raw.githubusercontent.com/DenisePotenza/Portfolio-DS/master/Images/titanic-xgb.jpg width=800px>"
      ]
    },
    {
      "cell_type": "markdown",
      "metadata": {
        "id": "wzy81-YI7KQy",
        "colab_type": "text"
      },
      "source": [
        "The training model had the best result using XGBClassifier, with 0.848144 of accuracy. But when submited to kaggle, the RandomForest had the best result with 0.78468.\n",
        "\n",
        "This was my Titanic analysis and machine learning model. I hope you to enjoy and any feedback are pretty welcome!\n",
        "Thank you for your vistit!\n",
        "\n",
        "Contact me:</br>\n",
        "[GitHub](https://github.com/DenisePotenza/Portfolio-DS)\n",
        "\n",
        "[Linkedin](https://www.linkedin.com/in/denise-ribeiro-potenza-75959813/)\n",
        "\n",
        "[Facebook](https://www.facebook.com/deniseribeiro.potenza?ref=bookmarks)\n",
        "\n",
        "[Instagram](https://www.instagram.com/denise_potenza/?hl=pt-br)\n",
        "\n",
        "E-mail: denisepotenza@gmail.com\n"
      ]
    }
  ]
}